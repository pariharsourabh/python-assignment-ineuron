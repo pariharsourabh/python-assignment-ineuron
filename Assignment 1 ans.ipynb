{
 "cells": [
  {
   "cell_type": "code",
   "execution_count": 4,
   "id": "460a1fdb-4f6b-4618-8024-496d66057d98",
   "metadata": {},
   "outputs": [],
   "source": [
    "#1. In the below elements which of them are values or an expression? eg:- values can be integer or string and expressions will be mathematical operators.\n",
    "#* \n",
    "#'hello'\n",
    "#-87.8\n",
    "#- \n",
    "#/ \n",
    "#+\t\n",
    "#6 "
   ]
  },
  {
   "cell_type": "code",
   "execution_count": 14,
   "id": "ac8b7227-3182-49a3-a25c-682fd8367725",
   "metadata": {},
   "outputs": [],
   "source": [
    "#* ->  expression\n",
    "#'hello' -> string value\n",
    "#-87.8 -> float value\n",
    "#- -> expression\n",
    "#/  -> expression\n",
    "#+\t-> expression\n",
    "#6  -> integer value"
   ]
  },
  {
   "cell_type": "code",
   "execution_count": 3,
   "id": "73a3c0a4-808f-4604-a22d-c06ce33f8bac",
   "metadata": {},
   "outputs": [],
   "source": [
    "#2. What is the difference between string and variable?"
   ]
  },
  {
   "cell_type": "code",
   "execution_count": 22,
   "id": "b0b5cac8-6499-44a4-8564-c53fb72f4b44",
   "metadata": {},
   "outputs": [],
   "source": [
    "# string are data whereas variable are syombols used to store that data in program.\n",
    "# string exists within single quotes or double quotes\n",
    "#example:-\n",
    "'this is string' or \" this is string\"\n",
    "# variable are used to assigned string data.\n",
    "#example:-\n",
    "a = \"this is a data assigned to a variable\"\n",
    "# a is variable"
   ]
  },
  {
   "cell_type": "code",
   "execution_count": 5,
   "id": "600e1445-01c2-408e-96e2-d53fadd2abca",
   "metadata": {},
   "outputs": [],
   "source": [
    "#3. Describe three different data types."
   ]
  },
  {
   "cell_type": "code",
   "execution_count": 23,
   "id": "189ab75d-40b9-40af-8bad-e71598c72d37",
   "metadata": {},
   "outputs": [],
   "source": [
    "# string -> used to store characters in python -> example \"this is string\"\n",
    "# numeric -> used to store numeric value in python -> example a=125 ,b=138 \n",
    "# list -> used to store the collection of data types elements and it is mutable -> example l=[1,2,\"abc\",2+5j]"
   ]
  },
  {
   "cell_type": "code",
   "execution_count": 6,
   "id": "00f3893b-cccc-4167-a280-b6d1c0ca56c2",
   "metadata": {},
   "outputs": [],
   "source": [
    "#4. What is an expression made up of? What do all expressions do?"
   ]
  },
  {
   "cell_type": "code",
   "execution_count": 25,
   "id": "d0de0c8f-b0f6-432c-a33f-bdce1ff33891",
   "metadata": {},
   "outputs": [
    {
     "name": "stdout",
     "output_type": "stream",
     "text": [
      "142\n"
     ]
    }
   ],
   "source": [
    "# an expression is any legal combination of symbols (like a variable, constants, and operators) representing a value.\n",
    "# an expression must have at least one operand (variable or constant) and have one or more operators. After evaluating an expression, we get a value.\n",
    "# example :- \n",
    "a=56\n",
    "b=86\n",
    "c=a+b\n",
    "print(c)"
   ]
  },
  {
   "cell_type": "code",
   "execution_count": 7,
   "id": "a626a78a-b334-45c4-8ba1-c754e0ed45c8",
   "metadata": {},
   "outputs": [],
   "source": [
    "#5. This assignment statements, like spam = 10. What is the difference between an expression and a statement?"
   ]
  },
  {
   "cell_type": "code",
   "execution_count": 28,
   "id": "818da790-9c99-4258-bca9-3e1231e10ff4",
   "metadata": {},
   "outputs": [
    {
     "name": "stdout",
     "output_type": "stream",
     "text": [
      "10\n"
     ]
    }
   ],
   "source": [
    "# a statement does something, like creating a variable or displaying a value, it only does whatever the statement says whereas an expression always evaluates to a value.\n",
    "spam=10 # in this statement the value \"10\" is store in \"spam\" variable\n",
    "print(spam)"
   ]
  },
  {
   "cell_type": "code",
   "execution_count": 29,
   "id": "1a5ab2ed-4042-434a-b4d2-d172f1129505",
   "metadata": {},
   "outputs": [
    {
     "data": {
      "text/plain": [
       "23"
      ]
     },
     "execution_count": 29,
     "metadata": {},
     "output_type": "execute_result"
    }
   ],
   "source": [
    "#6. After running the following code, what does the variable bacon contain?\n",
    "bacon = 22\n",
    "bacon + 1"
   ]
  },
  {
   "cell_type": "code",
   "execution_count": 32,
   "id": "36bcc3d0-e035-44db-aa6c-70085a29e65f",
   "metadata": {},
   "outputs": [],
   "source": [
    "#7. What should the values of the following two terms be?\n",
    "#'spam' + 'spamspam'\n",
    "#'spam' * 3"
   ]
  },
  {
   "cell_type": "code",
   "execution_count": 34,
   "id": "01eea1d5-6586-43fe-ae9f-51f55674278a",
   "metadata": {},
   "outputs": [
    {
     "data": {
      "text/plain": [
       "'spamspamspam'"
      ]
     },
     "execution_count": 34,
     "metadata": {},
     "output_type": "execute_result"
    }
   ],
   "source": [
    "# output is same in both\n",
    "'spam' + 'spamspam'"
   ]
  },
  {
   "cell_type": "code",
   "execution_count": 35,
   "id": "2d2be9b2-3116-4df1-9576-ef541350c959",
   "metadata": {},
   "outputs": [
    {
     "data": {
      "text/plain": [
       "'spamspamspam'"
      ]
     },
     "execution_count": 35,
     "metadata": {},
     "output_type": "execute_result"
    }
   ],
   "source": [
    "'spam' * 3"
   ]
  },
  {
   "cell_type": "code",
   "execution_count": 10,
   "id": "3cf7d2da-6e56-488d-a8c9-0b5bd982b233",
   "metadata": {},
   "outputs": [],
   "source": [
    "#8. Why is eggs a valid variable name while 100 is invalid?"
   ]
  },
  {
   "cell_type": "code",
   "execution_count": 37,
   "id": "d7c793fb-f69b-46de-b03b-21f363c4b706",
   "metadata": {},
   "outputs": [],
   "source": [
    "# in python we cannot start variable name with a number so 100 is invalid"
   ]
  },
  {
   "cell_type": "code",
   "execution_count": 11,
   "id": "a486044a-45e3-4b71-ae0f-8ce7507a48f9",
   "metadata": {},
   "outputs": [],
   "source": [
    "#9. What three functions can be used to get the integer, floating-point number, or string version of a value?"
   ]
  },
  {
   "cell_type": "code",
   "execution_count": 40,
   "id": "6b0331c5-ad88-4408-9fc9-d6668b3d97fd",
   "metadata": {},
   "outputs": [],
   "source": [
    "# for integer -> int function\n",
    "# for floating-point number -> float function\n",
    "# for string -> str function"
   ]
  },
  {
   "cell_type": "code",
   "execution_count": 13,
   "id": "d22d5d95-6446-4129-ba21-8e07fb1bbcf1",
   "metadata": {},
   "outputs": [],
   "source": [
    "#10. Why does this expression cause an error? How can you fix it?\n",
    "#'I have eaten ' + 99 + ' burritos.'"
   ]
  },
  {
   "cell_type": "code",
   "execution_count": 38,
   "id": "6aba95d3-f527-49ab-a932-821ff1c70841",
   "metadata": {},
   "outputs": [
    {
     "ename": "TypeError",
     "evalue": "can only concatenate str (not \"int\") to str",
     "output_type": "error",
     "traceback": [
      "\u001b[0;31m---------------------------------------------------------------------------\u001b[0m",
      "\u001b[0;31mTypeError\u001b[0m                                 Traceback (most recent call last)",
      "Cell \u001b[0;32mIn [38], line 1\u001b[0m\n\u001b[0;32m----> 1\u001b[0m \u001b[38;5;124;43m'\u001b[39;49m\u001b[38;5;124;43mI have eaten \u001b[39;49m\u001b[38;5;124;43m'\u001b[39;49m\u001b[43m \u001b[49m\u001b[38;5;241;43m+\u001b[39;49m\u001b[43m \u001b[49m\u001b[38;5;241;43m99\u001b[39;49m \u001b[38;5;241m+\u001b[39m \u001b[38;5;124m'\u001b[39m\u001b[38;5;124m burritos.\u001b[39m\u001b[38;5;124m'\u001b[39m\n",
      "\u001b[0;31mTypeError\u001b[0m: can only concatenate str (not \"int\") to str"
     ]
    }
   ],
   "source": [
    "'I have eaten ' + 99 + ' burritos.'"
   ]
  },
  {
   "cell_type": "code",
   "execution_count": 39,
   "id": "65ab230b-5019-4503-9462-08e0ce8e5100",
   "metadata": {},
   "outputs": [
    {
     "data": {
      "text/plain": [
       "'I have eaten 99 burritos.'"
      ]
     },
     "execution_count": 39,
     "metadata": {},
     "output_type": "execute_result"
    }
   ],
   "source": [
    "# the data of 99 is an interger so it cannot added to string so we need to convert 99 into string data type by simple assigned in double qoute or single quote.\n",
    "'I have eaten ' + '99' + ' burritos.'"
   ]
  }
 ],
 "metadata": {
  "kernelspec": {
   "display_name": "Python 3 (ipykernel)",
   "language": "python",
   "name": "python3"
  },
  "language_info": {
   "codemirror_mode": {
    "name": "ipython",
    "version": 3
   },
   "file_extension": ".py",
   "mimetype": "text/x-python",
   "name": "python",
   "nbconvert_exporter": "python",
   "pygments_lexer": "ipython3",
   "version": "3.10.6"
  }
 },
 "nbformat": 4,
 "nbformat_minor": 5
}
