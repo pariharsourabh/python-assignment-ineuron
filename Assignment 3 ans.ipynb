{
 "cells": [
  {
   "cell_type": "code",
   "execution_count": 58,
   "id": "7ad649a5-e5cf-4119-aa0a-9abb363cd8e8",
   "metadata": {},
   "outputs": [],
   "source": [
    "#1. Why are functions advantageous to have in your programs?"
   ]
  },
  {
   "cell_type": "code",
   "execution_count": 59,
   "id": "3f6aa1a6-f67c-4bff-aae2-975f1f7e08ca",
   "metadata": {},
   "outputs": [],
   "source": [
    "# To reduce the need for duplicate code in programs."
   ]
  },
  {
   "cell_type": "code",
   "execution_count": 60,
   "id": "be493374-48e7-494c-9e7a-33bd128ad171",
   "metadata": {},
   "outputs": [],
   "source": [
    "#2. When does the code in a function run: when it's specified or when it's called?"
   ]
  },
  {
   "cell_type": "code",
   "execution_count": 61,
   "id": "1af5b9c7-0172-433c-b2d7-83ff3f5796fc",
   "metadata": {},
   "outputs": [],
   "source": [
    "# when it's called"
   ]
  },
  {
   "cell_type": "code",
   "execution_count": 62,
   "id": "de4310b3-a90d-44fb-a5bf-d9b345c488aa",
   "metadata": {},
   "outputs": [],
   "source": [
    "#3. What statement creates a function?"
   ]
  },
  {
   "cell_type": "code",
   "execution_count": 63,
   "id": "ae5785a2-8238-4d3b-b004-55a31ee66384",
   "metadata": {},
   "outputs": [],
   "source": [
    "# a function can be defined using the def keyword\n",
    "# example\n",
    "\n",
    "def func(a,b):\n",
    "    return a*b"
   ]
  },
  {
   "cell_type": "code",
   "execution_count": 64,
   "id": "6631345b-eacc-4495-8796-579cf0a08582",
   "metadata": {},
   "outputs": [
    {
     "data": {
      "text/plain": [
       "30"
      ]
     },
     "execution_count": 64,
     "metadata": {},
     "output_type": "execute_result"
    }
   ],
   "source": [
    "func(5,6)"
   ]
  },
  {
   "cell_type": "code",
   "execution_count": 65,
   "id": "eb1485b9-b409-4503-944b-18994daeeb08",
   "metadata": {},
   "outputs": [],
   "source": [
    "#4. What is the difference between a function and a function call?"
   ]
  },
  {
   "cell_type": "code",
   "execution_count": 66,
   "id": "e438e4d9-08b4-44e1-bdc5-f756c023f713",
   "metadata": {},
   "outputs": [
    {
     "data": {
      "text/plain": [
       "11"
      ]
     },
     "execution_count": 66,
     "metadata": {},
     "output_type": "execute_result"
    }
   ],
   "source": [
    "# a function is a block of code that does a particular operation and returns a result whereas a function call is code used to pass control to a function.\n",
    "# we can define a function but the instructions won't be executed until we call the function and tell compiler to execute the instruction of the defined function.\n",
    "# example\n",
    "def add(a,b):\n",
    "    return a+b # return value a+b\n",
    "add(5,6) # function call"
   ]
  },
  {
   "cell_type": "code",
   "execution_count": 67,
   "id": "2096f75a-91bc-4211-865a-80da1ab4d78f",
   "metadata": {},
   "outputs": [],
   "source": [
    "#5. How many global scopes are there in a Python program? How many local scopes?"
   ]
  },
  {
   "cell_type": "code",
   "execution_count": 68,
   "id": "728643ba-8e85-4b0e-a2c5-d5ad568f2cb5",
   "metadata": {},
   "outputs": [],
   "source": [
    "# we have only 1 global scope variable for a program and can have many local scope variables as per the number of functions we have defined.\n",
    "# note, a local variable is only created when a function is called. declaring a local variable doesn't mean it has been assigned a memory location."
   ]
  },
  {
   "cell_type": "code",
   "execution_count": 69,
   "id": "8e97b45b-c45e-418f-9930-10412edf7ffe",
   "metadata": {},
   "outputs": [],
   "source": [
    "#6. What happens to variables in a local scope when the function call returns?"
   ]
  },
  {
   "cell_type": "code",
   "execution_count": 70,
   "id": "2c6be654-c5aa-4804-8027-c8859258fbfc",
   "metadata": {},
   "outputs": [],
   "source": [
    "# when the execution of the function returns, the local variables in the function scope are destroyed."
   ]
  },
  {
   "cell_type": "code",
   "execution_count": 71,
   "id": "e543d8cc-8af7-43e2-b586-ea1d2585d636",
   "metadata": {},
   "outputs": [],
   "source": [
    "#7. What is the concept of a return value? Is it possible to have a return value in an expression?"
   ]
  },
  {
   "cell_type": "code",
   "execution_count": 72,
   "id": "c7c42be6-1e9b-436e-81d2-56da42f1cbc1",
   "metadata": {},
   "outputs": [],
   "source": [
    "# in python the return statement is used to execution of the function call and return the value.\n",
    "# if the return statement is without any expression, then the special value None is returned.\n",
    "# any remaining lines of code block after the return statement are not executed.\n",
    "# If you define a function with an explicit return statement that has an explicit return value, then you can use that return value in any expression"
   ]
  },
  {
   "cell_type": "code",
   "execution_count": 73,
   "id": "c849be10-f785-43b0-84b4-dc41aeb9bf29",
   "metadata": {},
   "outputs": [],
   "source": [
    "#8. If a function does not have a return statement, what is the return value of a call to that function?"
   ]
  },
  {
   "cell_type": "code",
   "execution_count": 74,
   "id": "0ae4eeb3-c025-4006-8af1-726f037da5c1",
   "metadata": {},
   "outputs": [],
   "source": [
    "# if there is no return statement then it return none."
   ]
  },
  {
   "cell_type": "code",
   "execution_count": 75,
   "id": "cbf66e1e-d2e8-441d-b3dc-e0d447405480",
   "metadata": {},
   "outputs": [],
   "source": [
    "#9. How do you make a function variable refer to the global variable?"
   ]
  },
  {
   "cell_type": "code",
   "execution_count": 76,
   "id": "91b472a1-25ab-4e48-853d-bc2a74021eba",
   "metadata": {},
   "outputs": [
    {
     "name": "stdout",
     "output_type": "stream",
     "text": [
      "Total marks : 100\n",
      "Total marks : 35\n"
     ]
    }
   ],
   "source": [
    "# we use global keyword before a variable to tell interpreter inside a function that we are using a global variable.\n",
    "# we use this keyword if we have to modify the global variable inside a function.\n",
    "\n",
    "#example\n",
    "\n",
    "totalmarks = 100\n",
    "\n",
    "def test():\n",
    "    global totalmarks\n",
    "    if totalmarks>34:\n",
    "        totalmarks = 35\n",
    "\n",
    "print(f'Total marks : {totalmarks}')\n",
    "test()\n",
    "\n",
    "print(f'Total marks : {totalmarks}')"
   ]
  },
  {
   "cell_type": "code",
   "execution_count": 77,
   "id": "ae6fa317-54c9-4917-9ae4-f72f38d2556d",
   "metadata": {},
   "outputs": [],
   "source": [
    "#10. What is the data type of None?"
   ]
  },
  {
   "cell_type": "code",
   "execution_count": 78,
   "id": "2f0e9d0d-5a0e-4144-9a26-c43a1f965e81",
   "metadata": {},
   "outputs": [
    {
     "name": "stdout",
     "output_type": "stream",
     "text": [
      "\n"
     ]
    },
    {
     "data": {
      "text/plain": [
       "NoneType"
      ]
     },
     "execution_count": 78,
     "metadata": {},
     "output_type": "execute_result"
    }
   ],
   "source": [
    "# nonetype\n",
    "type(print())"
   ]
  },
  {
   "cell_type": "code",
   "execution_count": 79,
   "id": "5b8e6ccd-299c-4398-96ad-9a6268dab29e",
   "metadata": {},
   "outputs": [],
   "source": [
    "#11. What does the sentence import areallyourpetsnamederic do?"
   ]
  },
  {
   "cell_type": "code",
   "execution_count": 80,
   "id": "0fe13c3f-a4ab-4072-a577-053874997952",
   "metadata": {},
   "outputs": [
    {
     "ename": "ModuleNotFoundError",
     "evalue": "No module named 'areallyourpetsnamederic'",
     "output_type": "error",
     "traceback": [
      "\u001b[0;31m---------------------------------------------------------------------------\u001b[0m",
      "\u001b[0;31mModuleNotFoundError\u001b[0m                       Traceback (most recent call last)",
      "Cell \u001b[0;32mIn [80], line 1\u001b[0m\n\u001b[0;32m----> 1\u001b[0m \u001b[38;5;28;01mimport\u001b[39;00m \u001b[38;5;21;01mareallyourpetsnamederic\u001b[39;00m\n",
      "\u001b[0;31mModuleNotFoundError\u001b[0m: No module named 'areallyourpetsnamederic'"
     ]
    }
   ],
   "source": [
    "import areallyourpetsnamederic"
   ]
  },
  {
   "cell_type": "code",
   "execution_count": 81,
   "id": "0e8f5065-c02c-4a2b-9a58-52442c0e5e8b",
   "metadata": {},
   "outputs": [],
   "source": [
    "# there is no module named areallyourpetsnamederic"
   ]
  },
  {
   "cell_type": "code",
   "execution_count": 82,
   "id": "92ef6f40-de53-4c80-ba0b-9c6cb74e5839",
   "metadata": {},
   "outputs": [],
   "source": [
    "#12. If you had a bacon() feature in a spam module, what would you call it after importing spam?"
   ]
  },
  {
   "cell_type": "code",
   "execution_count": 83,
   "id": "1b6a4c08-e286-4733-952b-af7aed746754",
   "metadata": {},
   "outputs": [],
   "source": [
    "# any function in spam module can be called using format\n",
    "# spam.()\n",
    "# therefore, bacon feature can be called using\n",
    "# spam.bacon()"
   ]
  },
  {
   "cell_type": "code",
   "execution_count": 84,
   "id": "34c1bb0c-b09a-4109-bf14-ba8525e6bddf",
   "metadata": {},
   "outputs": [],
   "source": [
    "#13. What can you do to save a programme from crashing if it encounters an error?"
   ]
  },
  {
   "cell_type": "code",
   "execution_count": 85,
   "id": "276c547e-ae31-4a3f-a8bd-1aba8e15230c",
   "metadata": {},
   "outputs": [
    {
     "ename": "ZeroDivisionError",
     "evalue": "division by zero",
     "output_type": "error",
     "traceback": [
      "\u001b[0;31m---------------------------------------------------------------------------\u001b[0m",
      "\u001b[0;31mZeroDivisionError\u001b[0m                         Traceback (most recent call last)",
      "Cell \u001b[0;32mIn [85], line 5\u001b[0m\n\u001b[1;32m      2\u001b[0m \u001b[38;5;28;01mdef\u001b[39;00m \u001b[38;5;21mtest\u001b[39m(a,b):\n\u001b[1;32m      3\u001b[0m     \u001b[38;5;28mprint\u001b[39m(a\u001b[38;5;241m/\u001b[39mb)\n\u001b[0;32m----> 5\u001b[0m \u001b[43mtest\u001b[49m\u001b[43m(\u001b[49m\u001b[38;5;241;43m2\u001b[39;49m\u001b[43m,\u001b[49m\u001b[38;5;241;43m0\u001b[39;49m\u001b[43m)\u001b[49m\n",
      "Cell \u001b[0;32mIn [85], line 3\u001b[0m, in \u001b[0;36mtest\u001b[0;34m(a, b)\u001b[0m\n\u001b[1;32m      2\u001b[0m \u001b[38;5;28;01mdef\u001b[39;00m \u001b[38;5;21mtest\u001b[39m(a,b):\n\u001b[0;32m----> 3\u001b[0m     \u001b[38;5;28mprint\u001b[39m(\u001b[43ma\u001b[49m\u001b[38;5;241;43m/\u001b[39;49m\u001b[43mb\u001b[49m)\n",
      "\u001b[0;31mZeroDivisionError\u001b[0m: division by zero"
     ]
    }
   ],
   "source": [
    "# we can use try statement to test a code block and if it encounters an error an except block handles the error which avoids crashing a program.\n",
    "def test(a,b):\n",
    "    print(a/b)\n",
    "    \n",
    "test(2,0)"
   ]
  },
  {
   "cell_type": "code",
   "execution_count": 86,
   "id": "14074582-3e07-4dba-b0c6-f6f12e2c5f55",
   "metadata": {},
   "outputs": [
    {
     "name": "stdout",
     "output_type": "stream",
     "text": [
      "<class 'Exception'> division by zero\n"
     ]
    }
   ],
   "source": [
    "def test(a,b):\n",
    "    try:\n",
    "        print(a/b)\n",
    "    except Exception as e:\n",
    "        print(Exception, e)\n",
    "        \n",
    "test(2,0)    "
   ]
  },
  {
   "cell_type": "code",
   "execution_count": 87,
   "id": "f92a67d8-1846-4283-93a2-8e234551fb99",
   "metadata": {},
   "outputs": [],
   "source": [
    "#14. What is the purpose of the try clause? What is the purpose of the except clause?"
   ]
  },
  {
   "cell_type": "code",
   "execution_count": 88,
   "id": "308ced16-8373-4ebe-b121-4d6c986769ea",
   "metadata": {},
   "outputs": [],
   "source": [
    "# the purpose of try clause is to execute the program succefully without crashing the program using except/try clause."
   ]
  }
 ],
 "metadata": {
  "kernelspec": {
   "display_name": "Python 3 (ipykernel)",
   "language": "python",
   "name": "python3"
  },
  "language_info": {
   "codemirror_mode": {
    "name": "ipython",
    "version": 3
   },
   "file_extension": ".py",
   "mimetype": "text/x-python",
   "name": "python",
   "nbconvert_exporter": "python",
   "pygments_lexer": "ipython3",
   "version": "3.10.6"
  }
 },
 "nbformat": 4,
 "nbformat_minor": 5
}
