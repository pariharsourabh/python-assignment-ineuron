{
 "cells": [
  {
   "cell_type": "code",
   "execution_count": 1,
   "id": "1904ab00-0995-4951-b64f-0c44c68cce22",
   "metadata": {},
   "outputs": [],
   "source": [
    "#1.What are the two values of the Boolean data type? How do you write them?"
   ]
  },
  {
   "cell_type": "code",
   "execution_count": 28,
   "id": "051e7297-a4ce-4e86-8dfd-719553ee12fa",
   "metadata": {},
   "outputs": [
    {
     "data": {
      "text/plain": [
       "True"
      ]
     },
     "execution_count": 28,
     "metadata": {},
     "output_type": "execute_result"
    }
   ],
   "source": [
    "#the two value of Boolean data type in python are :\n",
    "#True and False\n",
    "#we write them as :\n",
    "True"
   ]
  },
  {
   "cell_type": "code",
   "execution_count": 27,
   "id": "02e00f57-87b3-4b8c-bd78-e3bc279550a6",
   "metadata": {},
   "outputs": [
    {
     "data": {
      "text/plain": [
       "False"
      ]
     },
     "execution_count": 27,
     "metadata": {},
     "output_type": "execute_result"
    }
   ],
   "source": [
    "False"
   ]
  },
  {
   "cell_type": "code",
   "execution_count": 2,
   "id": "0a4ae25d-87fb-4256-b244-c0f4777afd7f",
   "metadata": {},
   "outputs": [],
   "source": [
    "#2. What are the three different types of Boolean operators?"
   ]
  },
  {
   "cell_type": "code",
   "execution_count": 29,
   "id": "98d8f546-0f2a-48b9-a711-0910ef983b91",
   "metadata": {},
   "outputs": [],
   "source": [
    "# the three different types of boolean operators are\n",
    "# and\n",
    "# or\n",
    "# not"
   ]
  },
  {
   "cell_type": "code",
   "execution_count": 3,
   "id": "6f455077-f201-4b93-ae04-b42b8cbfb96c",
   "metadata": {},
   "outputs": [],
   "source": [
    "#3. Make a list of each Boolean operator's truth tables (i.e. every possible combination of Boolean values for the operator and what it evaluate )."
   ]
  },
  {
   "cell_type": "code",
   "execution_count": 33,
   "id": "0cb94f8c-fca5-434f-8f5e-1626f14447fa",
   "metadata": {},
   "outputs": [],
   "source": [
    "# and\n",
    "# True and True = True\n",
    "# True and False = False\n",
    "# False and False = False\n",
    "\n",
    "# or\n",
    "# True or True = True\n",
    "# True or False = True\n",
    "# False or False = False\n",
    "\n",
    "# not\n",
    "# not True = False\n",
    "# not False = True"
   ]
  },
  {
   "cell_type": "code",
   "execution_count": 4,
   "id": "cd9bb6fa-8be2-4663-bf8b-152239f90137",
   "metadata": {},
   "outputs": [],
   "source": [
    "#4. What are the values of the following expressions?\n",
    "#(5 > 4) and (3 == 5)\n",
    "#not (5 > 4)\n",
    "#(5 > 4) or (3 == 5)\n",
    "#not ((5 > 4) or (3 == 5))\n",
    "#(True and True) and (True == False)\n",
    "#(not False) or (not True)"
   ]
  },
  {
   "cell_type": "code",
   "execution_count": 17,
   "id": "92eefbcf-0b04-4534-8d41-637ae39f6e90",
   "metadata": {},
   "outputs": [
    {
     "data": {
      "text/plain": [
       "False"
      ]
     },
     "execution_count": 17,
     "metadata": {},
     "output_type": "execute_result"
    }
   ],
   "source": [
    "(5 > 4) and (3 == 5) "
   ]
  },
  {
   "cell_type": "code",
   "execution_count": 18,
   "id": "e9aba96d-577b-4c11-8855-236ee0b2f2c0",
   "metadata": {},
   "outputs": [
    {
     "data": {
      "text/plain": [
       "False"
      ]
     },
     "execution_count": 18,
     "metadata": {},
     "output_type": "execute_result"
    }
   ],
   "source": [
    "not (5 > 4)"
   ]
  },
  {
   "cell_type": "code",
   "execution_count": 19,
   "id": "c87b5990-3392-4ff0-abdd-6b048e9adaac",
   "metadata": {},
   "outputs": [
    {
     "data": {
      "text/plain": [
       "True"
      ]
     },
     "execution_count": 19,
     "metadata": {},
     "output_type": "execute_result"
    }
   ],
   "source": [
    "(5 > 4) or (3 == 5)"
   ]
  },
  {
   "cell_type": "code",
   "execution_count": 20,
   "id": "36bd477a-25eb-458f-ae54-890f9c0fcd08",
   "metadata": {},
   "outputs": [
    {
     "data": {
      "text/plain": [
       "False"
      ]
     },
     "execution_count": 20,
     "metadata": {},
     "output_type": "execute_result"
    }
   ],
   "source": [
    "not ((5 > 4) or (3 == 5))"
   ]
  },
  {
   "cell_type": "code",
   "execution_count": 21,
   "id": "e04fbeba-6187-4229-88fd-92a57d663b7b",
   "metadata": {},
   "outputs": [
    {
     "data": {
      "text/plain": [
       "False"
      ]
     },
     "execution_count": 21,
     "metadata": {},
     "output_type": "execute_result"
    }
   ],
   "source": [
    "(True and True) and (True == False)"
   ]
  },
  {
   "cell_type": "code",
   "execution_count": 22,
   "id": "c45070f4-6537-452e-ab96-049f8ec3772d",
   "metadata": {},
   "outputs": [
    {
     "data": {
      "text/plain": [
       "True"
      ]
     },
     "execution_count": 22,
     "metadata": {},
     "output_type": "execute_result"
    }
   ],
   "source": [
    "(not False) or (not True)"
   ]
  },
  {
   "cell_type": "code",
   "execution_count": 5,
   "id": "3c96bf86-37c7-45d0-8cce-9c8ef1cc7f08",
   "metadata": {},
   "outputs": [],
   "source": [
    "#5. What are the six comparison operators?"
   ]
  },
  {
   "cell_type": "code",
   "execution_count": 34,
   "id": "e0a006c2-34f7-4feb-a182-21c783a244af",
   "metadata": {},
   "outputs": [],
   "source": [
    "# six comparison operators in python are :\n",
    "# greater than (>)\n",
    "# less than (<)\n",
    "# equal to (==)\n",
    "# less than equal to (<=)\n",
    "# greater than (>=)\n",
    "# not equal to (!=)"
   ]
  },
  {
   "cell_type": "code",
   "execution_count": 6,
   "id": "7aee6ba3-892b-4b35-84d9-2f40be01c014",
   "metadata": {},
   "outputs": [],
   "source": [
    "#6. How do you tell the difference between the equal to and assignment operators?Describe a condition and when you would use one."
   ]
  },
  {
   "cell_type": "code",
   "execution_count": 36,
   "id": "ecbb62ad-8a38-45c8-81d8-643ddbd595fb",
   "metadata": {},
   "outputs": [
    {
     "data": {
      "text/plain": [
       "False"
      ]
     },
     "execution_count": 36,
     "metadata": {},
     "output_type": "execute_result"
    }
   ],
   "source": [
    "# in python == is comparison operator whereas = is assignment operator\n",
    "# example\n",
    "a = 5 # assigned value of 5 in a\n",
    "b = 6 # assigned value of 6 in b\n",
    "a == b # comparing a and b"
   ]
  },
  {
   "cell_type": "code",
   "execution_count": 7,
   "id": "75e69887-61b0-4afb-becf-66cb6fba3668",
   "metadata": {},
   "outputs": [],
   "source": [
    "#7. Identify the three blocks in this code:\n",
    "#spam = 0\n",
    "#if spam == 10:\n",
    "#print('eggs')\n",
    "#if spam > 5:\n",
    "#print('bacon')\n",
    "#else:\n",
    "#print('ham')\n",
    "#print('spam')\n",
    "#print('spam')"
   ]
  },
  {
   "cell_type": "code",
   "execution_count": 38,
   "id": "85a88936-e3aa-4009-8fe9-a8c6470c31cf",
   "metadata": {},
   "outputs": [
    {
     "name": "stdout",
     "output_type": "stream",
     "text": [
      "ham\n",
      "spam\n",
      "spam\n"
     ]
    }
   ],
   "source": [
    "spam = 0\n",
    "if spam == 10:\n",
    "    print('eggs') # 1st \n",
    "if spam > 5:\n",
    "    print('bacon') # 2nd \n",
    "else:\n",
    "    print('ham') #3rd\n",
    "print('spam')\n",
    "print('spam')"
   ]
  },
  {
   "cell_type": "code",
   "execution_count": 8,
   "id": "a28e3904-7f22-4d17-bf8e-12e238dbaa4a",
   "metadata": {},
   "outputs": [],
   "source": [
    "#8. Write code that prints Hello if 1 is stored in spam, prints Howdy if 2 is stored in spam, and prints Greetings! if anything else is stored in spam."
   ]
  },
  {
   "cell_type": "code",
   "execution_count": 37,
   "id": "f38ef04c-271a-4e50-b801-a37ab5eb48e1",
   "metadata": {},
   "outputs": [
    {
     "name": "stdin",
     "output_type": "stream",
     "text": [
      "Enter the value of spam:  5\n"
     ]
    },
    {
     "name": "stdout",
     "output_type": "stream",
     "text": [
      "Greeting!\n"
     ]
    }
   ],
   "source": [
    "spam = int(input(\"Enter the value of spam: \"))\n",
    "\n",
    "if spam==1 or spam==2:\n",
    "    if spam==1:\n",
    "        print(\"Hello\")\n",
    "    else :\n",
    "        print(\"Howdy\")\n",
    "else : \n",
    "    print(\"Greeting!\")\n",
    "        "
   ]
  }
 ],
 "metadata": {
  "kernelspec": {
   "display_name": "Python 3 (ipykernel)",
   "language": "python",
   "name": "python3"
  },
  "language_info": {
   "codemirror_mode": {
    "name": "ipython",
    "version": 3
   },
   "file_extension": ".py",
   "mimetype": "text/x-python",
   "name": "python",
   "nbconvert_exporter": "python",
   "pygments_lexer": "ipython3",
   "version": "3.10.6"
  }
 },
 "nbformat": 4,
 "nbformat_minor": 5
}
